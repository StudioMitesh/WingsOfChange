{
 "cells": [
  {
   "cell_type": "code",
   "execution_count": 1,
   "metadata": {},
   "outputs": [],
   "source": [
    "import pandas as pd\n",
    "import numpy as np\n",
    "import matplotlib.pyplot as plt\n",
    "import seaborn as sns\n",
    "import requests\n",
    "import io\n",
    "from pydub import AudioSegment\n",
    "from pydub.playback import play\n",
    "from pythonosc import udp_client"
   ]
  },
  {
   "cell_type": "markdown",
   "metadata": {},
   "source": [
    "### The AWS URL can be adjusted according to what data is being grabbed:\n",
    "\n",
    "#### Year Data  \n",
    "[This goes for years - 2023 right now (change the end to `/year.csv` for different years)](https://noaa-ghcn-pds.s3.amazonaws.com/csv/by_year/2023.csv)  \n",
    "**Link in plain text:**  \n",
    "https://noaa-ghcn-pds.s3.amazonaws.com/csv/by_year/2023.csv  \n",
    "\n",
    "#### Station ID Data  \n",
    "[This goes by specific stations - AGM00060403 right now (change the end to `/station_id.csv` for different years)](https://noaa-ghcn-pds.s3.amazonaws.com/csv/by_station/AGM00060403.csv)  \n",
    "**Link in plain text:**  \n",
    "https://noaa-ghcn-pds.s3.amazonaws.com/csv/by_station/AGM00060403.csv  \n",
    "\n",
    "Here is a list of all of the NOAA stations:  \n",
    "[NOAA Station List](https://www.ncei.noaa.gov/pub/data/ghcn/daily/ghcnd-stations.txt)\n"
   ]
  },
  {
   "cell_type": "code",
   "execution_count": 2,
   "metadata": {},
   "outputs": [],
   "source": [
    "AWS_BASE_URL = \"https://noaa-ghcn-pds.s3.amazonaws.com/csv/by_year/\"\n",
    "AWS_STATION_LIST = \"https://www.ncei.noaa.gov/pub/data/ghcn/daily/ghcnd-stations.txt\""
   ]
  },
  {
   "cell_type": "code",
   "execution_count": 3,
   "metadata": {},
   "outputs": [],
   "source": [
    "years = list(range(2000, 2024))  # 2000 to 2023\n",
    "stations = [\"USW00094728\", \"USW00023174\", \"USC00042319\"]  # Example: NYC, LA, Texas"
   ]
  },
  {
   "cell_type": "markdown",
   "metadata": {},
   "source": [
    "<b>Be warned that loading the data takes a while, just be patient<b>"
   ]
  },
  {
   "cell_type": "code",
   "execution_count": 4,
   "metadata": {},
   "outputs": [
    {
     "name": "stdout",
     "output_type": "stream",
     "text": [
      "Fetching data for 2000...\n",
      "Fetching data for 2001...\n",
      "Fetching data for 2002...\n",
      "Fetching data for 2003...\n",
      "Fetching data for 2004...\n",
      "Fetching data for 2005...\n",
      "Fetching data for 2006...\n",
      "Fetching data for 2007...\n",
      "Fetching data for 2008...\n",
      "Fetching data for 2009...\n",
      "Fetching data for 2010...\n",
      "Fetching data for 2011...\n",
      "Fetching data for 2012...\n",
      "Fetching data for 2013...\n",
      "Fetching data for 2014...\n",
      "Fetching data for 2015...\n",
      "Fetching data for 2016...\n",
      "Fetching data for 2017...\n",
      "Fetching data for 2018...\n",
      "Fetching data for 2019...\n",
      "Fetching data for 2020...\n",
      "Fetching data for 2021...\n",
      "Fetching data for 2022...\n",
      "Fetching data for 2023...\n"
     ]
    }
   ],
   "source": [
    "def load_noaa_data(years, stations):\n",
    "    dfs = []\n",
    "    for year in years:\n",
    "        url = f\"{AWS_BASE_URL}{year}.csv\"\n",
    "        print(f\"Fetching data for {year}...\")\n",
    "        response = requests.get(url)\n",
    "        if response.status_code == 200:\n",
    "            df = pd.read_csv(io.StringIO(response.text))\n",
    "            df = df[df[\"ID\"].isin(stations)]  # Filter for selected stations early\n",
    "            df[\"Year\"] = year  # Add Year column\n",
    "            dfs.append(df)\n",
    "        else:\n",
    "            print(f\"Failed to fetch data for {year}\")\n",
    "    return pd.concat(dfs, ignore_index=True) if dfs else None\n",
    "\n",
    "df = load_noaa_data(years, stations)"
   ]
  },
  {
   "cell_type": "code",
   "execution_count": 18,
   "metadata": {},
   "outputs": [
    {
     "data": {
      "text/html": [
       "<div>\n",
       "<style scoped>\n",
       "    .dataframe tbody tr th:only-of-type {\n",
       "        vertical-align: middle;\n",
       "    }\n",
       "\n",
       "    .dataframe tbody tr th {\n",
       "        vertical-align: top;\n",
       "    }\n",
       "\n",
       "    .dataframe thead th {\n",
       "        text-align: right;\n",
       "    }\n",
       "</style>\n",
       "<table border=\"1\" class=\"dataframe\">\n",
       "  <thead>\n",
       "    <tr style=\"text-align: right;\">\n",
       "      <th></th>\n",
       "      <th>ID</th>\n",
       "      <th>DATE</th>\n",
       "      <th>ELEMENT</th>\n",
       "      <th>DATA_VALUE</th>\n",
       "      <th>M_FLAG</th>\n",
       "      <th>Q_FLAG</th>\n",
       "      <th>S_FLAG</th>\n",
       "      <th>OBS_TIME</th>\n",
       "      <th>Year</th>\n",
       "      <th>TEMP_C</th>\n",
       "    </tr>\n",
       "  </thead>\n",
       "  <tbody>\n",
       "    <tr>\n",
       "      <th>0</th>\n",
       "      <td>USW00094728</td>\n",
       "      <td>20000101</td>\n",
       "      <td>TMAX</td>\n",
       "      <td>100</td>\n",
       "      <td>NaN</td>\n",
       "      <td>NaN</td>\n",
       "      <td>0</td>\n",
       "      <td>2400.0</td>\n",
       "      <td>2000</td>\n",
       "      <td>10.0</td>\n",
       "    </tr>\n",
       "    <tr>\n",
       "      <th>1</th>\n",
       "      <td>USW00094728</td>\n",
       "      <td>20000101</td>\n",
       "      <td>TMIN</td>\n",
       "      <td>11</td>\n",
       "      <td>NaN</td>\n",
       "      <td>NaN</td>\n",
       "      <td>0</td>\n",
       "      <td>2400.0</td>\n",
       "      <td>2000</td>\n",
       "      <td>1.1</td>\n",
       "    </tr>\n",
       "    <tr>\n",
       "      <th>2</th>\n",
       "      <td>USW00094728</td>\n",
       "      <td>20000101</td>\n",
       "      <td>PRCP</td>\n",
       "      <td>0</td>\n",
       "      <td>NaN</td>\n",
       "      <td>NaN</td>\n",
       "      <td>0</td>\n",
       "      <td>2400.0</td>\n",
       "      <td>2000</td>\n",
       "      <td>0.0</td>\n",
       "    </tr>\n",
       "    <tr>\n",
       "      <th>8</th>\n",
       "      <td>USW00094728</td>\n",
       "      <td>20000101</td>\n",
       "      <td>TAVG</td>\n",
       "      <td>56</td>\n",
       "      <td>NaN</td>\n",
       "      <td>NaN</td>\n",
       "      <td>W</td>\n",
       "      <td>NaN</td>\n",
       "      <td>2000</td>\n",
       "      <td>5.6</td>\n",
       "    </tr>\n",
       "    <tr>\n",
       "      <th>16</th>\n",
       "      <td>USW00023174</td>\n",
       "      <td>20000101</td>\n",
       "      <td>TMAX</td>\n",
       "      <td>144</td>\n",
       "      <td>NaN</td>\n",
       "      <td>NaN</td>\n",
       "      <td>0</td>\n",
       "      <td>2400.0</td>\n",
       "      <td>2000</td>\n",
       "      <td>14.4</td>\n",
       "    </tr>\n",
       "    <tr>\n",
       "      <th>...</th>\n",
       "      <td>...</td>\n",
       "      <td>...</td>\n",
       "      <td>...</td>\n",
       "      <td>...</td>\n",
       "      <td>...</td>\n",
       "      <td>...</td>\n",
       "      <td>...</td>\n",
       "      <td>...</td>\n",
       "      <td>...</td>\n",
       "      <td>...</td>\n",
       "    </tr>\n",
       "    <tr>\n",
       "      <th>372839</th>\n",
       "      <td>USW00023174</td>\n",
       "      <td>20231231</td>\n",
       "      <td>PRCP</td>\n",
       "      <td>0</td>\n",
       "      <td>T</td>\n",
       "      <td>NaN</td>\n",
       "      <td>W</td>\n",
       "      <td>2400.0</td>\n",
       "      <td>2023</td>\n",
       "      <td>0.0</td>\n",
       "    </tr>\n",
       "    <tr>\n",
       "      <th>372848</th>\n",
       "      <td>USW00023174</td>\n",
       "      <td>20231231</td>\n",
       "      <td>TAVG</td>\n",
       "      <td>133</td>\n",
       "      <td>H</td>\n",
       "      <td>NaN</td>\n",
       "      <td>S</td>\n",
       "      <td>NaN</td>\n",
       "      <td>2023</td>\n",
       "      <td>13.3</td>\n",
       "    </tr>\n",
       "    <tr>\n",
       "      <th>372854</th>\n",
       "      <td>USC00042319</td>\n",
       "      <td>20231231</td>\n",
       "      <td>TMAX</td>\n",
       "      <td>161</td>\n",
       "      <td>NaN</td>\n",
       "      <td>NaN</td>\n",
       "      <td>W</td>\n",
       "      <td>2400.0</td>\n",
       "      <td>2023</td>\n",
       "      <td>16.1</td>\n",
       "    </tr>\n",
       "    <tr>\n",
       "      <th>372855</th>\n",
       "      <td>USC00042319</td>\n",
       "      <td>20231231</td>\n",
       "      <td>TMIN</td>\n",
       "      <td>50</td>\n",
       "      <td>NaN</td>\n",
       "      <td>NaN</td>\n",
       "      <td>W</td>\n",
       "      <td>2400.0</td>\n",
       "      <td>2023</td>\n",
       "      <td>5.0</td>\n",
       "    </tr>\n",
       "    <tr>\n",
       "      <th>372856</th>\n",
       "      <td>USC00042319</td>\n",
       "      <td>20231231</td>\n",
       "      <td>PRCP</td>\n",
       "      <td>0</td>\n",
       "      <td>NaN</td>\n",
       "      <td>NaN</td>\n",
       "      <td>W</td>\n",
       "      <td>2400.0</td>\n",
       "      <td>2023</td>\n",
       "      <td>0.0</td>\n",
       "    </tr>\n",
       "  </tbody>\n",
       "</table>\n",
       "<p>86851 rows × 10 columns</p>\n",
       "</div>"
      ],
      "text/plain": [
       "                 ID      DATE ELEMENT  DATA_VALUE M_FLAG Q_FLAG S_FLAG  \\\n",
       "0       USW00094728  20000101    TMAX         100    NaN    NaN      0   \n",
       "1       USW00094728  20000101    TMIN          11    NaN    NaN      0   \n",
       "2       USW00094728  20000101    PRCP           0    NaN    NaN      0   \n",
       "8       USW00094728  20000101    TAVG          56    NaN    NaN      W   \n",
       "16      USW00023174  20000101    TMAX         144    NaN    NaN      0   \n",
       "...             ...       ...     ...         ...    ...    ...    ...   \n",
       "372839  USW00023174  20231231    PRCP           0      T    NaN      W   \n",
       "372848  USW00023174  20231231    TAVG         133      H    NaN      S   \n",
       "372854  USC00042319  20231231    TMAX         161    NaN    NaN      W   \n",
       "372855  USC00042319  20231231    TMIN          50    NaN    NaN      W   \n",
       "372856  USC00042319  20231231    PRCP           0    NaN    NaN      W   \n",
       "\n",
       "        OBS_TIME  Year  TEMP_C  \n",
       "0         2400.0  2000    10.0  \n",
       "1         2400.0  2000     1.1  \n",
       "2         2400.0  2000     0.0  \n",
       "8            NaN  2000     5.6  \n",
       "16        2400.0  2000    14.4  \n",
       "...          ...   ...     ...  \n",
       "372839    2400.0  2023     0.0  \n",
       "372848       NaN  2023    13.3  \n",
       "372854    2400.0  2023    16.1  \n",
       "372855    2400.0  2023     5.0  \n",
       "372856    2400.0  2023     0.0  \n",
       "\n",
       "[86851 rows x 10 columns]"
      ]
     },
     "execution_count": 18,
     "metadata": {},
     "output_type": "execute_result"
    }
   ],
   "source": [
    "df"
   ]
  },
  {
   "cell_type": "code",
   "execution_count": 19,
   "metadata": {},
   "outputs": [],
   "source": [
    "df.to_csv('unprocessed_climate_data.csv', index=False)"
   ]
  },
  {
   "cell_type": "code",
   "execution_count": 5,
   "metadata": {},
   "outputs": [],
   "source": [
    "# get and normalize the temperatures\n",
    "df = df[df[\"ELEMENT\"].isin([\"TAVG\", \"PRCP\", \"TMAX\", \"TMIN\"])]\n",
    "df[\"TEMP_C\"] = df[\"DATA_VALUE\"] / 10"
   ]
  },
  {
   "cell_type": "code",
   "execution_count": 7,
   "metadata": {},
   "outputs": [],
   "source": [
    "df_pivot = df.pivot_table(index=[\"ID\", \"Year\"], columns=\"ELEMENT\", values=\"TEMP_C\", aggfunc=\"mean\").reset_index()\n",
    "df_pivot.columns = [\"Station_ID\", \"Year\", \"Avg_Temp\", \"Precipitation\", \"Max_Temp\", \"Min_Temp\"]"
   ]
  },
  {
   "cell_type": "code",
   "execution_count": 9,
   "metadata": {},
   "outputs": [],
   "source": [
    "df_climate = df_pivot.groupby(\"Year\").mean(numeric_only=True).reset_index()"
   ]
  },
  {
   "cell_type": "code",
   "execution_count": 10,
   "metadata": {},
   "outputs": [],
   "source": [
    "df_climate[\"TEMP_NORM\"] = (df_climate[\"Avg_Temp\"] - df_climate[\"Avg_Temp\"].min()) / (df_climate[\"Avg_Temp\"].max() - df_climate[\"Avg_Temp\"].min())"
   ]
  },
  {
   "cell_type": "code",
   "execution_count": 11,
   "metadata": {},
   "outputs": [
    {
     "data": {
      "text/html": [
       "<div>\n",
       "<style scoped>\n",
       "    .dataframe tbody tr th:only-of-type {\n",
       "        vertical-align: middle;\n",
       "    }\n",
       "\n",
       "    .dataframe tbody tr th {\n",
       "        vertical-align: top;\n",
       "    }\n",
       "\n",
       "    .dataframe thead th {\n",
       "        text-align: right;\n",
       "    }\n",
       "</style>\n",
       "<table border=\"1\" class=\"dataframe\">\n",
       "  <thead>\n",
       "    <tr style=\"text-align: right;\">\n",
       "      <th></th>\n",
       "      <th>Year</th>\n",
       "      <th>Avg_Temp</th>\n",
       "      <th>Precipitation</th>\n",
       "      <th>Max_Temp</th>\n",
       "      <th>Min_Temp</th>\n",
       "      <th>TEMP_NORM</th>\n",
       "    </tr>\n",
       "  </thead>\n",
       "  <tbody>\n",
       "    <tr>\n",
       "      <th>0</th>\n",
       "      <td>2000</td>\n",
       "      <td>1.329690</td>\n",
       "      <td>14.785935</td>\n",
       "      <td>23.529004</td>\n",
       "      <td>12.762448</td>\n",
       "      <td>0.209954</td>\n",
       "    </tr>\n",
       "    <tr>\n",
       "      <th>1</th>\n",
       "      <td>2001</td>\n",
       "      <td>1.284658</td>\n",
       "      <td>15.010464</td>\n",
       "      <td>23.781356</td>\n",
       "      <td>13.266932</td>\n",
       "      <td>0.161055</td>\n",
       "    </tr>\n",
       "    <tr>\n",
       "      <th>2</th>\n",
       "      <td>2002</td>\n",
       "      <td>1.177443</td>\n",
       "      <td>15.069810</td>\n",
       "      <td>24.045132</td>\n",
       "      <td>13.060869</td>\n",
       "      <td>0.044634</td>\n",
       "    </tr>\n",
       "    <tr>\n",
       "      <th>3</th>\n",
       "      <td>2003</td>\n",
       "      <td>1.646119</td>\n",
       "      <td>14.731866</td>\n",
       "      <td>23.482257</td>\n",
       "      <td>13.177006</td>\n",
       "      <td>0.553554</td>\n",
       "    </tr>\n",
       "    <tr>\n",
       "      <th>4</th>\n",
       "      <td>2004</td>\n",
       "      <td>1.678051</td>\n",
       "      <td>15.104199</td>\n",
       "      <td>23.555033</td>\n",
       "      <td>13.269106</td>\n",
       "      <td>0.588228</td>\n",
       "    </tr>\n",
       "  </tbody>\n",
       "</table>\n",
       "</div>"
      ],
      "text/plain": [
       "   Year  Avg_Temp  Precipitation   Max_Temp   Min_Temp  TEMP_NORM\n",
       "0  2000  1.329690      14.785935  23.529004  12.762448   0.209954\n",
       "1  2001  1.284658      15.010464  23.781356  13.266932   0.161055\n",
       "2  2002  1.177443      15.069810  24.045132  13.060869   0.044634\n",
       "3  2003  1.646119      14.731866  23.482257  13.177006   0.553554\n",
       "4  2004  1.678051      15.104199  23.555033  13.269106   0.588228"
      ]
     },
     "execution_count": 11,
     "metadata": {},
     "output_type": "execute_result"
    }
   ],
   "source": [
    "df_climate.head()"
   ]
  },
  {
   "cell_type": "code",
   "execution_count": 12,
   "metadata": {},
   "outputs": [
    {
     "data": {
      "text/html": [
       "<div>\n",
       "<style scoped>\n",
       "    .dataframe tbody tr th:only-of-type {\n",
       "        vertical-align: middle;\n",
       "    }\n",
       "\n",
       "    .dataframe tbody tr th {\n",
       "        vertical-align: top;\n",
       "    }\n",
       "\n",
       "    .dataframe thead th {\n",
       "        text-align: right;\n",
       "    }\n",
       "</style>\n",
       "<table border=\"1\" class=\"dataframe\">\n",
       "  <thead>\n",
       "    <tr style=\"text-align: right;\">\n",
       "      <th></th>\n",
       "      <th>Year</th>\n",
       "      <th>Avg_Temp</th>\n",
       "      <th>Precipitation</th>\n",
       "      <th>Max_Temp</th>\n",
       "      <th>Min_Temp</th>\n",
       "      <th>TEMP_NORM</th>\n",
       "    </tr>\n",
       "  </thead>\n",
       "  <tbody>\n",
       "    <tr>\n",
       "      <th>count</th>\n",
       "      <td>24.000000</td>\n",
       "      <td>24.000000</td>\n",
       "      <td>17.000000</td>\n",
       "      <td>24.000000</td>\n",
       "      <td>24.000000</td>\n",
       "      <td>24.000000</td>\n",
       "    </tr>\n",
       "    <tr>\n",
       "      <th>mean</th>\n",
       "      <td>2011.500000</td>\n",
       "      <td>1.508496</td>\n",
       "      <td>16.723236</td>\n",
       "      <td>24.095400</td>\n",
       "      <td>13.771479</td>\n",
       "      <td>0.404114</td>\n",
       "    </tr>\n",
       "    <tr>\n",
       "      <th>std</th>\n",
       "      <td>7.071068</td>\n",
       "      <td>0.264472</td>\n",
       "      <td>1.529719</td>\n",
       "      <td>0.481200</td>\n",
       "      <td>0.551775</td>\n",
       "      <td>0.287182</td>\n",
       "    </tr>\n",
       "    <tr>\n",
       "      <th>min</th>\n",
       "      <td>2000.000000</td>\n",
       "      <td>1.136339</td>\n",
       "      <td>14.321698</td>\n",
       "      <td>23.482257</td>\n",
       "      <td>12.755251</td>\n",
       "      <td>0.000000</td>\n",
       "    </tr>\n",
       "    <tr>\n",
       "      <th>25%</th>\n",
       "      <td>2005.750000</td>\n",
       "      <td>1.278486</td>\n",
       "      <td>15.069810</td>\n",
       "      <td>23.638288</td>\n",
       "      <td>13.268563</td>\n",
       "      <td>0.154353</td>\n",
       "    </tr>\n",
       "    <tr>\n",
       "      <th>50%</th>\n",
       "      <td>2011.500000</td>\n",
       "      <td>1.506405</td>\n",
       "      <td>17.429041</td>\n",
       "      <td>24.046995</td>\n",
       "      <td>13.827534</td>\n",
       "      <td>0.401843</td>\n",
       "    </tr>\n",
       "    <tr>\n",
       "      <th>75%</th>\n",
       "      <td>2017.250000</td>\n",
       "      <td>1.704498</td>\n",
       "      <td>17.944384</td>\n",
       "      <td>24.571918</td>\n",
       "      <td>14.234890</td>\n",
       "      <td>0.616946</td>\n",
       "    </tr>\n",
       "    <tr>\n",
       "      <th>max</th>\n",
       "      <td>2023.000000</td>\n",
       "      <td>2.057260</td>\n",
       "      <td>18.500548</td>\n",
       "      <td>24.877260</td>\n",
       "      <td>14.556347</td>\n",
       "      <td>1.000000</td>\n",
       "    </tr>\n",
       "  </tbody>\n",
       "</table>\n",
       "</div>"
      ],
      "text/plain": [
       "              Year   Avg_Temp  Precipitation   Max_Temp   Min_Temp  TEMP_NORM\n",
       "count    24.000000  24.000000      17.000000  24.000000  24.000000  24.000000\n",
       "mean   2011.500000   1.508496      16.723236  24.095400  13.771479   0.404114\n",
       "std       7.071068   0.264472       1.529719   0.481200   0.551775   0.287182\n",
       "min    2000.000000   1.136339      14.321698  23.482257  12.755251   0.000000\n",
       "25%    2005.750000   1.278486      15.069810  23.638288  13.268563   0.154353\n",
       "50%    2011.500000   1.506405      17.429041  24.046995  13.827534   0.401843\n",
       "75%    2017.250000   1.704498      17.944384  24.571918  14.234890   0.616946\n",
       "max    2023.000000   2.057260      18.500548  24.877260  14.556347   1.000000"
      ]
     },
     "execution_count": 12,
     "metadata": {},
     "output_type": "execute_result"
    }
   ],
   "source": [
    "df_climate.describe()"
   ]
  },
  {
   "cell_type": "code",
   "execution_count": 13,
   "metadata": {},
   "outputs": [
    {
     "name": "stdout",
     "output_type": "stream",
     "text": [
      "<class 'pandas.core.frame.DataFrame'>\n",
      "RangeIndex: 24 entries, 0 to 23\n",
      "Data columns (total 6 columns):\n",
      " #   Column         Non-Null Count  Dtype  \n",
      "---  ------         --------------  -----  \n",
      " 0   Year           24 non-null     int64  \n",
      " 1   Avg_Temp       24 non-null     float64\n",
      " 2   Precipitation  17 non-null     float64\n",
      " 3   Max_Temp       24 non-null     float64\n",
      " 4   Min_Temp       24 non-null     float64\n",
      " 5   TEMP_NORM      24 non-null     float64\n",
      "dtypes: float64(5), int64(1)\n",
      "memory usage: 1.3 KB\n"
     ]
    }
   ],
   "source": [
    "df_climate.info()"
   ]
  },
  {
   "cell_type": "code",
   "execution_count": 16,
   "metadata": {},
   "outputs": [],
   "source": [
    "df_climate.to_csv('climate_data_processed.csv', index=False)"
   ]
  },
  {
   "cell_type": "code",
   "execution_count": 14,
   "metadata": {},
   "outputs": [
    {
     "data": {
      "text/plain": [
       "<Axes: >"
      ]
     },
     "execution_count": 14,
     "metadata": {},
     "output_type": "execute_result"
    },
    {
     "data": {
      "image/png": "[encoded data removed]",
      "text/plain": [
       "<Figure size 640x480 with 1 Axes>"
      ]
     },
     "metadata": {},
     "output_type": "display_data"
    }
   ],
   "source": [
    "# null data heatmap\n",
    "sns.heatmap(df_climate.isnull(), yticklabels=False, cbar=False, cmap=\"viridis\")"
   ]
  },
  {
   "cell_type": "code",
   "execution_count": 15,
   "metadata": {},
   "outputs": [
    {
     "data": {
      "image/png": "[encoded data removed]",
      "text/plain": [
       "<Figure size 1200x600 with 1 Axes>"
      ]
     },
     "metadata": {},
     "output_type": "display_data"
    }
   ],
   "source": [
    "# graphing the climate trends\n",
    "plt.figure(figsize=(12, 6))\n",
    "plt.plot(df_climate[\"Year\"], df_climate[\"Avg_Temp\"], marker=\"o\", linestyle=\"-\", label=\"Avg Temp (°C)\")\n",
    "plt.plot(df_climate[\"Year\"], df_climate[\"Max_Temp\"], marker=\"s\", linestyle=\"--\", label=\"Max Temp (°C)\")\n",
    "plt.plot(df_climate[\"Year\"], df_climate[\"Min_Temp\"], marker=\"d\", linestyle=\":\", label=\"Min Temp (°C)\")\n",
    "plt.xlabel(\"Year\")\n",
    "plt.ylabel(\"Temperature (°C)\")\n",
    "plt.title(\"Climate Trends (2000-2023)\")\n",
    "plt.legend()\n",
    "plt.grid()\n",
    "plt.show()"
   ]
  },
  {
   "cell_type": "code",
   "execution_count": null,
   "metadata": {},
   "outputs": [],
   "source": [
    "# load bird sounds\n",
    "BIRD_SOUNDS = [\"bird1.wav\", \"bird2.wav\", \"bird3.wav\", \"bird4.wav\", \"bird5.wav\"]\n",
    "bird_samples = [AudioSegment.from_wav(sound) for sound in BIRD_SOUNDS]"
   ]
  },
  {
   "cell_type": "code",
   "execution_count": null,
   "metadata": {},
   "outputs": [],
   "source": [
    "def play_bird_sound(temp_value):\n",
    "    index = int(temp_value * (len(bird_samples) - 1))  # map temperature to bird sound\n",
    "    print(f\"Playing bird sound {index} for temperature {temp_value:.2f}\")\n",
    "    play(bird_samples[index])"
   ]
  },
  {
   "cell_type": "code",
   "execution_count": null,
   "metadata": {},
   "outputs": [],
   "source": [
    "first_temp = df_climate[\"TEMP_NORM\"].iloc[0]\n",
    "play_bird_sound(first_temp)"
   ]
  },
  {
   "cell_type": "code",
   "execution_count": null,
   "metadata": {},
   "outputs": [],
   "source": [
    "client = udp_client.SimpleUDPClient(\"127.0.0.1\", 7400)\n",
    "client.send_message(\"/temperature\", first_temp)"
   ]
  }
 ],
 "metadata": {
  "kernelspec": {
   "display_name": "hackgt",
   "language": "python",
   "name": "python3"
  },
  "language_info": {
   "codemirror_mode": {
    "name": "ipython",
    "version": 3
   },
   "file_extension": ".py",
   "mimetype": "text/x-python",
   "name": "python",
   "nbconvert_exporter": "python",
   "pygments_lexer": "ipython3",
   "version": "3.11.11"
  }
 },
 "nbformat": 4,
 "nbformat_minor": 2
}
